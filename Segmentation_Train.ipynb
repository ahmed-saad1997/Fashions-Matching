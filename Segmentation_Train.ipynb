{
  "cells": [
    {
      "cell_type": "code",
      "execution_count": null,
      "metadata": {
        "id": "U_hX5IrAfgU0"
      },
      "outputs": [],
      "source": [
        "!wget https://s3.amazonaws.com/ifashionist-dataset/images/train2020.zip\n",
        "!wget https://s3.amazonaws.com/ifashionist-dataset/images/val_test2020.zip\n",
        "!wget https://s3.amazonaws.com/ifashionist-dataset/annotations/instances_attributes_train2020.json\n",
        "!wget https://s3.amazonaws.com/ifashionist-dataset/annotations/instances_attributes_val2020.json\n",
        "!wget https://s3.amazonaws.com/ifashionist-dataset/annotations/info_test2020.json"
      ]
    },
    {
      "cell_type": "code",
      "execution_count": null,
      "metadata": {
        "id": "3P9TKKt4iPVS"
      },
      "outputs": [],
      "source": [
        "import pandas as pd\n",
        "import json\n",
        "datatrain=json.load(open('/content/instances_attributes_train2020.json'))\n",
        "dataval=json.load(open('/content/instances_attributes_val2020.json'))"
      ]
    },
    {
      "cell_type": "code",
      "execution_count": null,
      "metadata": {
        "id": "jWEU5e5gJ8Fa"
      },
      "outputs": [],
      "source": [
        "annot_train=pd.DataFrame(datatrain['annotations'])\n",
        "annot_val=pd.DataFrame(dataval['annotations'])\n",
        "annot_train.head()"
      ]
    },
    {
      "cell_type": "code",
      "execution_count": null,
      "metadata": {
        "id": "-45tR6LQLFwS"
      },
      "outputs": [],
      "source": [
        "image_attri_train=pd.DataFrame(datatrain['images'])\n",
        "image_attri_val=pd.DataFrame(dataval['images'])\n",
        "image_attri_train.head()"
      ]
    },
    {
      "cell_type": "code",
      "execution_count": null,
      "metadata": {
        "id": "1Z8Yhrf3L_pb"
      },
      "outputs": [],
      "source": [
        "!mkdir dataset\n",
        "!mkdir dataset/train\n",
        "!mkdir dataset/train/images\n",
        "!mkdir dataset/train/labels\n",
        "!mkdir dataset/val\n",
        "!mkdir dataset/val/images\n",
        "!mkdir dataset/val/labels"
      ]
    },
    {
      "cell_type": "code",
      "execution_count": null,
      "metadata": {
        "id": "4OA86QfEgKda"
      },
      "outputs": [],
      "source": [
        "!unzip -xq train2020.zip\n",
        "!unzip -xq val_test2020.zip\n",
        "!mv test val"
      ]
    },
    {
      "cell_type": "code",
      "execution_count": null,
      "metadata": {
        "id": "HvyKtKxROu3E"
      },
      "outputs": [],
      "source": [
        "import shutil\n",
        "def create_txt(annot,attrip,typ):\n",
        "  for i in annot['image_id'].unique():\n",
        "    image_annotaions=annot[annot['image_id']==i]\n",
        "    attriputes=attrip[attrip['id']==i]\n",
        "    img_name=attrip[attrip['id']==i]['file_name']\n",
        "    img_name=img_name[img_name.keys()[0]]\n",
        "    width,height=int(attriputes['width']),int(attriputes['height'])\n",
        "    lines=[]\n",
        "    for cat,seg in zip(image_annotaions.category_id,image_annotaions.segmentation):\n",
        "      if cat not in range(0,12):\n",
        "        continue\n",
        "      try:\n",
        "        segs=' '.join([str(int(elem)/width) if count%2==0 else str(int(elem)/height) for count,elem in\n",
        "                      enumerate(str(seg).replace('[','').replace(']','').replace(' ','').split(','))])\n",
        "        lines.append('{} {}\\n'.format(cat,segs))\n",
        "      except:\n",
        "        pass\n",
        "    if len(lines)>0:\n",
        "      with open('dataset/{}/labels/{}'.format(typ,img_name.replace('.jpg','.txt')),'w') as f:\n",
        "        f.writelines(lines)\n",
        "        f.close()\n",
        "      shutil.copy('{}/{}'.format(typ,img_name),'dataset/{}/images/{}'.format(typ,img_name))\n",
        "create_txt(annot_train,image_attri_train,'train')\n",
        "create_txt(annot_val,image_attri_val,'val')"
      ]
    },
    {
      "cell_type": "code",
      "execution_count": null,
      "metadata": {
        "id": "nGOiL3FtmYXA"
      },
      "outputs": [],
      "source": [
        "import os\n",
        "print(len(os.listdir('dataset/train/labels')),len(os.listdir('dataset/train/images')))\n",
        "print(len(os.listdir('dataset/val/labels')),len(os.listdir('dataset/val/images')))"
      ]
    },
    {
      "cell_type": "code",
      "execution_count": null,
      "metadata": {
        "id": "60enMiTlouqZ"
      },
      "outputs": [],
      "source": [
        "!pip install ultralytics"
      ]
    },
    {
      "cell_type": "code",
      "execution_count": null,
      "metadata": {
        "id": "NuXVeLnzpXgy"
      },
      "outputs": [],
      "source": [
        "names=[i['name'].split(',')[0].replace(' ','') for i in datatrain['categories'] if i['id'] in range(0,12)]\n",
        "with open('data.yaml','w') as datafile:\n",
        "  lines=['path: ../dataset/\\n',\n",
        "         'train: train/images\\n',\n",
        "         'val: val/images\\n',\n",
        "         'nc: '+str(len(names))+'\\n',\n",
        "         'names: '+str(names)]\n",
        "  datafile.writelines(lines)\n",
        "  datafile.close()"
      ]
    },
    {
      "cell_type": "code",
      "execution_count": null,
      "metadata": {
        "id": "CuC6b5zK7ySz"
      },
      "outputs": [],
      "source": [
        "del(datatrain)\n",
        "del(dataval)"
      ]
    },
    {
      "cell_type": "code",
      "execution_count": null,
      "metadata": {
        "id": "TznjX6KmtlcC"
      },
      "outputs": [],
      "source": [
        "from ultralytics import YOLO\n",
        "model = YOLO('yolov8n-seg.pt')\n",
        "results = model.train(data='data.yaml',epochs=100, imgsz=640,  save_period=1, pretrained=True)"
      ]
    }
  ],
  "metadata": {
    "accelerator": "GPU",
    "colab": {
      "provenance": []
    },
    "kernelspec": {
      "display_name": "Python 3",
      "name": "python3"
    },
    "language_info": {
      "name": "python"
    }
  },
  "nbformat": 4,
  "nbformat_minor": 0
}