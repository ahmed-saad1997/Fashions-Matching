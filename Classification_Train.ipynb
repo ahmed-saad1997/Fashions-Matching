{
  "metadata": {
    "colab": {
      "provenance": [],
      "gpuType": "T4"
    },
    "kernelspec": {
      "name": "python3",
      "display_name": "Python 3",
      "language": "python"
    },
    "language_info": {
      "name": "python",
      "version": "3.10.12",
      "mimetype": "text/x-python",
      "codemirror_mode": {
        "name": "ipython",
        "version": 3
      },
      "pygments_lexer": "ipython3",
      "nbconvert_exporter": "python",
      "file_extension": ".py"
    },
    "accelerator": "GPU"
  },
  "nbformat_minor": 0,
  "nbformat": 4,
  "cells": [
    {
      "cell_type": "code",
      "source": [
        "!wget https://s3.amazonaws.com/ifashionist-dataset/images/train2020.zip\n",
        "!wget https://s3.amazonaws.com/ifashionist-dataset/images/val_test2020.zip\n",
        "!wget https://s3.amazonaws.com/ifashionist-dataset/annotations/instances_attributes_train2020.json\n",
        "!wget https://s3.amazonaws.com/ifashionist-dataset/annotations/instances_attributes_val2020.json\n",
        "!wget https://s3.amazonaws.com/ifashionist-dataset/annotations/info_test2020.json"
      ],
      "metadata": {
        "id": "U_hX5IrAfgU0",
        "trusted": true
      },
      "execution_count": null,
      "outputs": []
    },
    {
      "cell_type": "code",
      "source": [
        "import pandas as pd\n",
        "import json\n",
        "datatrain=json.load(open('instances_attributes_train2020.json'))\n",
        "dataval=json.load(open('instances_attributes_val2020.json'))"
      ],
      "metadata": {
        "id": "3P9TKKt4iPVS",
        "trusted": true
      },
      "execution_count": null,
      "outputs": []
    },
    {
      "cell_type": "code",
      "source": [
        "annot_train=pd.DataFrame(datatrain['annotations'])\n",
        "annot_val=pd.DataFrame(dataval['annotations'])\n",
        "annot_train.head()"
      ],
      "metadata": {
        "id": "jWEU5e5gJ8Fa",
        "trusted": true
      },
      "execution_count": null,
      "outputs": []
    },
    {
      "cell_type": "code",
      "source": [
        "image_attri_train=pd.DataFrame(datatrain['images'])\n",
        "image_attri_val=pd.DataFrame(dataval['images'])\n",
        "image_attri_train.head()"
      ],
      "metadata": {
        "id": "-45tR6LQLFwS",
        "trusted": true
      },
      "execution_count": null,
      "outputs": []
    },
    {
      "cell_type": "code",
      "source": [
        "!unzip -xq train2020.zip\n",
        "!unzip -xq val_test2020.zip\n",
        "!mv test val"
      ],
      "metadata": {
        "id": "4OA86QfEgKda",
        "trusted": true
      },
      "execution_count": null,
      "outputs": []
    },
    {
      "cell_type": "code",
      "source": [
        "!mkdir dataset\n",
        "!mkdir dataset/train\n",
        "!mkdir dataset/val"
      ],
      "metadata": {
        "trusted": true,
        "id": "pO4Kh13HFrpR"
      },
      "execution_count": null,
      "outputs": []
    },
    {
      "cell_type": "code",
      "source": [
        "import os\n",
        "clss={0:'shirt',1:'top',2:'sweater',3:'cardigan',4:'jacket',\n",
        "       5:'vest',6:'pants',7:'shorts',8:'skirt',9:'coat',10:'dress',11:'jumpsuit'}\n",
        "for i in range(0,12):\n",
        "    os.mkdir('dataset/train/{}/'.format(clss[i]))\n",
        "    os.mkdir('dataset/val/{}/'.format(clss[i]))"
      ],
      "metadata": {
        "trusted": true,
        "id": "O1juWzNnFrpS"
      },
      "execution_count": null,
      "outputs": []
    },
    {
      "cell_type": "code",
      "source": [
        "import os\n",
        "import cv2\n",
        "import numpy as np\n",
        "import pandas as pd\n",
        "from tqdm import tqdm\n",
        "def create_txt(annot,attrip,typ,path):\n",
        "  id=1\n",
        "  for i in tqdm(annot['image_id'].unique()):\n",
        "    image_annotaions=annot[annot['image_id']==i]\n",
        "    attriputes=attrip[attrip['id']==i]\n",
        "    img_name=attrip[attrip['id']==i]['file_name']\n",
        "    img_name=img_name[img_name.keys()[0]]\n",
        "    img=cv2.imread('{}/{}'.format(typ,img_name))\n",
        "    lines=[]\n",
        "    for cat,seg in zip(image_annotaions.category_id,image_annotaions.segmentation):\n",
        "      if cat not in range(0,12):\n",
        "        continue\n",
        "      pts=[]\n",
        "      try:\n",
        "        for poly in seg:\n",
        "          pts.extend([[poly[pt],poly[pt+1]] for pt in range(0,len(poly),2)])\n",
        "        mask = np.zeros(img.shape[:2], np.uint8)\n",
        "        cv2.drawContours(mask, [np.array(pts)], -1, (255, 255, 255), -1, cv2.LINE_AA)\n",
        "        dst = cv2.bitwise_and(img, img, mask=mask)\n",
        "        cv2.imwrite('{}/{}/{}.jpg'.format(path,clss[cat],id),dst)\n",
        "        if id==1:\n",
        "          cv2.imwrite('{}{}.jpg'.format(path,id),dst)\n",
        "        id+=1\n",
        "      except:\n",
        "        pass\n",
        "  print(len(os.listdir(path)))\n",
        "create_txt(annot_train,image_attri_train,'train','dataset/train')\n",
        "create_txt(annot_val,image_attri_val,'val','dataset/val')"
      ],
      "metadata": {
        "id": "HvyKtKxROu3E",
        "trusted": true
      },
      "execution_count": null,
      "outputs": []
    },
    {
      "cell_type": "code",
      "source": [
        "!pip install ultralytics"
      ],
      "metadata": {
        "trusted": true,
        "id": "1TDPqghWFrpS"
      },
      "execution_count": null,
      "outputs": []
    },
    {
      "cell_type": "code",
      "source": [
        "for i in os.listdir('dataset/train'):\n",
        "    print(i , len(os.listdir('dataset/train/{}'.format(i))))"
      ],
      "metadata": {
        "trusted": true,
        "id": "QBxdVJU4FrpT"
      },
      "execution_count": null,
      "outputs": []
    },
    {
      "cell_type": "code",
      "source": [
        "from ultralytics import YOLO\n",
        "model=YOLO('yolov8n-cls.pt')\n",
        "model.train(data='dataset',epochs=10,imgsz=640)"
      ],
      "metadata": {
        "execution": {
          "iopub.status.busy": "2023-10-13T03:13:35.838223Z",
          "iopub.execute_input": "2023-10-13T03:13:35.838588Z",
          "iopub.status.idle": "2023-10-13T03:14:31.649289Z",
          "shell.execute_reply.started": "2023-10-13T03:13:35.838541Z",
          "shell.execute_reply": "2023-10-13T03:14:31.647672Z"
        },
        "trusted": true,
        "id": "ZzjNU6fTFrpU"
      },
      "execution_count": null,
      "outputs": []
    }
  ]
}